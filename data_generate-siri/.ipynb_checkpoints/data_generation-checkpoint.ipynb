{
 "cells": [
  {
   "cell_type": "code",
   "execution_count": 5,
   "id": "ae965087",
   "metadata": {
    "ExecuteTime": {
     "end_time": "2022-03-26T17:02:55.940846Z",
     "start_time": "2022-03-26T17:02:55.933545Z"
    }
   },
   "outputs": [],
   "source": [
    "import numpy as np\n",
    "import pandas as pd\n",
    "import copy\n",
    "import queue\n",
    "dx=[-1, 0, 1, 0]\n",
    "dy=[0, 1, 0, -1]"
   ]
  },
  {
   "cell_type": "code",
   "execution_count": 6,
   "id": "ef00f8bf",
   "metadata": {
    "ExecuteTime": {
     "end_time": "2022-03-26T17:02:57.075913Z",
     "start_time": "2022-03-26T17:02:57.071543Z"
    }
   },
   "outputs": [],
   "source": [
    "def state2dict(state):\n",
    "    pos_dict = {}\n",
    "    for i in range(3):\n",
    "        for j in range(3):\n",
    "            pos_dict[i*3 + j] = state[i][j]\n",
    "    return pos_dict"
   ]
  },
  {
   "cell_type": "code",
   "execution_count": 7,
   "id": "5f99e90d",
   "metadata": {
    "ExecuteTime": {
     "end_time": "2022-03-26T17:02:57.792579Z",
     "start_time": "2022-03-26T17:02:57.783699Z"
    }
   },
   "outputs": [],
   "source": [
    "def generate_train_single_target(end_state, data_size = 100):\n",
    "    state = end_state.reshape(3,3)\n",
    "    dict_state = {}\n",
    "    step = 0\n",
    "    q = queue.Queue()\n",
    "    q.put(state)\n",
    "    cnt = 0\n",
    "    dict_state[str(state)] = (state, state2dict(state), step)\n",
    "    while cnt < data_size:\n",
    "        cur_state = q.get()\n",
    "        px,py = 0,0\n",
    "        for i in range(3):\n",
    "            for j in range(3):\n",
    "                if cur_state[i][j] == 0:\n",
    "                    px, py = i, j\n",
    "                    break\n",
    "        for k in range(4):\n",
    "            qx, qy = px + dx[k], py + dy[k]\n",
    "            if qx >= 0 and qx < 3 and qy >=0 and qy < 3:\n",
    "                new_state = copy.deepcopy(cur_state)\n",
    "                new_state[px][py],new_state[qx][qy] = new_state[qx][qy],new_state[px][py]\n",
    "                if str(new_state) not in dict_state:\n",
    "                    q.put(new_state)\n",
    "                    dict_state[str(new_state)]=(new_state, state2dict(new_state), dict_state[str(cur_state)][-1] + 1)\n",
    "                    cnt += 1\n",
    "    return dict_state"
   ]
  },
  {
   "cell_type": "code",
   "execution_count": 8,
   "id": "b58d2eec",
   "metadata": {
    "ExecuteTime": {
     "end_time": "2022-03-26T17:03:39.296854Z",
     "start_time": "2022-03-26T17:02:59.024585Z"
    }
   },
   "outputs": [
    {
     "name": "stdout",
     "output_type": "stream",
     "text": [
      "batch0\n",
      "batch10\n",
      "batch20\n",
      "batch30\n",
      "batch40\n",
      "batch50\n",
      "batch60\n",
      "batch70\n",
      "batch80\n",
      "batch90\n",
      "batch100\n",
      "batch110\n",
      "batch120\n",
      "batch130\n",
      "batch140\n",
      "batch150\n",
      "batch160\n",
      "batch170\n",
      "batch180\n",
      "batch190\n"
     ]
    }
   ],
   "source": [
    "def generate_train(batch_size=1000, batch_num=1000):\n",
    "    df = pd.DataFrame()\n",
    "    state = np.arange(0, 9).reshape(3,3)\n",
    "    for _i in range(batch_num):\n",
    "        np.random.shuffle(state)\n",
    "        dict_state = generate_train_single_target(state, batch_size)\n",
    "        list_state = [list(dict_state[i][0].reshape(-1)) for i in dict_state]\n",
    "        list_step = [dict_state[i][-1] for i in dict_state]\n",
    "        temp_dict = {}\n",
    "        temp_dict[\"Step\"] = list_step\n",
    "        new_df = pd.DataFrame()\n",
    "        new_df[\"Step\"] = list_step\n",
    "        for i in range(3):\n",
    "            for j in range(3):\n",
    "                new_df[\"start_idx\" + str(i*3+j)] = [dict_state[k][1][i*3+j] for k in dict_state]\n",
    "        for i in range(3):\n",
    "            for j in range(3):\n",
    "                new_df[\"end_idx\" + str(i*3+j)] = [state[i][j] for k in dict_state]\n",
    "        # print(new_df)\n",
    "        # break\n",
    "        # new_df = pd.DataFrame({\"StartState\": list_state, \"Step\": list_step, \"EndState\": [list(state.reshape(-1)) for i in dict_state]})\n",
    "        # print(new_df)\n",
    "        df = pd.concat([df, new_df], ignore_index=True)\n",
    "        if _i % 10 == 0:\n",
    "            print(f\"batch{_i}\")\n",
    "    return df\n",
    "\n",
    "df = generate_train(batch_size=1000, batch_num=200)\n",
    "df\n"
   ]
  },
  {
   "cell_type": "code",
   "execution_count": 10,
   "id": "b74b2e49",
   "metadata": {
    "ExecuteTime": {
     "end_time": "2022-03-26T17:06:33.268199Z",
     "start_time": "2022-03-26T17:06:32.747954Z"
    }
   },
   "outputs": [
    {
     "name": "stdout",
     "output_type": "stream",
     "text": [
      "(200257, 19)\n"
     ]
    }
   ],
   "source": [
    "df.to_csv(\"train.csv\", index=False)\n",
    "print(df.shape)"
   ]
  },
  {
   "cell_type": "code",
   "execution_count": 12,
   "id": "b973a18d",
   "metadata": {
    "ExecuteTime": {
     "end_time": "2022-03-27T05:09:43.338785Z",
     "start_time": "2022-03-27T05:09:43.110355Z"
    }
   },
   "outputs": [
    {
     "name": "stdout",
     "output_type": "stream",
     "text": [
      "batch0\n",
      "      Step  start_idx0  start_idx1  start_idx2  start_idx3  start_idx4  \\\n",
      "0        0           6           7           8           3           4   \n",
      "1        1           6           7           8           0           4   \n",
      "2        1           6           7           8           3           4   \n",
      "3        2           0           7           8           6           4   \n",
      "4        2           6           7           8           4           0   \n",
      "...    ...         ...         ...         ...         ...         ...   \n",
      "1015     7           1           2           8           0           4   \n",
      "1016     7           2           0           8           1           6   \n",
      "1017     7           1           2           8           3           6   \n",
      "1018     7           1           8           7           6           4   \n",
      "1019     7           1           8           7           0           6   \n",
      "\n",
      "      start_idx5  start_idx6  start_idx7  start_idx8  end_idx0  end_idx1  \\\n",
      "0              5           0           1           2         6         7   \n",
      "1              5           3           1           2         6         7   \n",
      "2              5           1           0           2         6         7   \n",
      "3              5           3           1           2         6         7   \n",
      "4              5           3           1           2         6         7   \n",
      "...          ...         ...         ...         ...       ...       ...   \n",
      "1015           7           6           3           5         0         1   \n",
      "1016           7           3           4           5         0         1   \n",
      "1017           7           4           0           5         0         1   \n",
      "1018           2           3           0           5         0         1   \n",
      "1019           2           3           4           5         0         1   \n",
      "\n",
      "      end_idx2  end_idx3  end_idx4  end_idx5  end_idx6  end_idx7  end_idx8  \n",
      "0            8         3         4         5         0         1         2  \n",
      "1            8         3         4         5         0         1         2  \n",
      "2            8         3         4         5         0         1         2  \n",
      "3            8         3         4         5         0         1         2  \n",
      "4            8         3         4         5         0         1         2  \n",
      "...        ...       ...       ...       ...       ...       ...       ...  \n",
      "1015         2         6         7         8         3         4         5  \n",
      "1016         2         6         7         8         3         4         5  \n",
      "1017         2         6         7         8         3         4         5  \n",
      "1018         2         6         7         8         3         4         5  \n",
      "1019         2         6         7         8         3         4         5  \n",
      "\n",
      "[1020 rows x 19 columns]\n"
     ]
    }
   ],
   "source": [
    "test_set = generate_train(batch_size=100, batch_num=10)\n",
    "test_set.to_csv(\"test.csv\", index=False)\n",
    "print(test_set)"
   ]
  },
  {
   "cell_type": "code",
   "execution_count": null,
   "id": "ef784c19",
   "metadata": {},
   "outputs": [],
   "source": []
  }
 ],
 "metadata": {
  "kernelspec": {
   "display_name": "Python 3 (ipykernel)",
   "language": "python",
   "name": "python3"
  },
  "language_info": {
   "codemirror_mode": {
    "name": "ipython",
    "version": 3
   },
   "file_extension": ".py",
   "mimetype": "text/x-python",
   "name": "python",
   "nbconvert_exporter": "python",
   "pygments_lexer": "ipython3",
   "version": "3.9.7"
  }
 },
 "nbformat": 4,
 "nbformat_minor": 5
}
